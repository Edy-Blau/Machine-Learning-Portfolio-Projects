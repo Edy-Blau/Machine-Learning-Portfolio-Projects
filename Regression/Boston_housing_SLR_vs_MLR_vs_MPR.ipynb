{
 "cells": [
  {
   "cell_type": "markdown",
   "metadata": {
    "id": "2Jokp2q9PByc"
   },
   "source": [
    "# Boston Housing Predictions\n",
    "### Simple Linear Regression (SLR) vs Multivariate Linear Regression (MLR) vs Multivariate Polynomial Regression (MPR)\n",
    "- Source: https://www.kaggle.com/code/prasadperera/the-boston-housing-dataset\n",
    "- Modified / Edited by: Edy Blau\n",
    "- Date: 11/12/2024"
   ]
  },
  {
   "cell_type": "markdown",
   "metadata": {
    "id": "ZVV7qfvMUT-C"
   },
   "source": [
    "__The Boston Housing Dataset__\n",
    "\n",
    "The Boston Housing Dataset is a derived from information collected by the U.S. Census Service concerning housing in the area of Boston MA (1970s). The following describes the dataset columns:\n",
    "\n",
    "- __CRIM__ - per capita crime rate by town\n",
    "- __ZN__ - proportion of residential land zoned for lots over 25,000 sq.ft.\n",
    "- __INDUS__ - proportion of non-retail business acres per town.\n",
    "- __CHAS__ - Charles River dummy variable (1 if tract bounds river; 0 otherwise)\n",
    "- __NOX__ - nitric oxides concentration (parts per 10 million)\n",
    "- __RM__ - average number of rooms per dwelling\n",
    "- __AGE__ - proportion of owner-occupied units built prior to 1940\n",
    "- __DIS__ - weighted distances to five Boston employment centres\n",
    "- __RAD__ - index of accessibility to radial highways\n",
    "- __TAX__ - full-value property-tax rate per \\$10,000\n",
    "- __PTRATIO__ - pupil-teacher ratio by town\n",
    "- __B__ - 1000(Bk - 0.63)^2 where Bk is the proportion of blacks by town\n",
    "- __LSTAT__ - % lower status of the population\n",
    "- __MEDV__ - Median value of owner-occupied homes in \\$1000's"
   ]
  },
  {
   "cell_type": "markdown",
   "metadata": {
    "id": "STk-DxVmP14j"
   },
   "source": [
    "#### Upload the .csv file and add the headers."
   ]
  },
  {
   "cell_type": "code",
   "execution_count": 43,
   "metadata": {
    "id": "8Fh1tUNYX0c3"
   },
   "outputs": [],
   "source": [
    "# Import libraries\n",
    "import pandas as pd\n",
    "import numpy as np\n",
    "from sklearn.model_selection import train_test_split\n",
    "from sklearn.linear_model import LinearRegression\n",
    "from sklearn.preprocessing import PolynomialFeatures\n",
    "from sklearn.feature_selection import SelectFromModel\n",
    "from sklearn.metrics import mean_squared_error, r2_score\n",
    "import matplotlib.pyplot as plt"
   ]
  },
  {
   "cell_type": "code",
   "execution_count": 44,
   "metadata": {
    "colab": {
     "base_uri": "https://localhost:8080/",
     "height": 241
    },
    "id": "c2CCx_vAO8LW",
    "outputId": "ae7f33cd-c7a9-42b7-d943-b64888e66fe0"
   },
   "outputs": [
    {
     "data": {
      "text/html": [
       "<div>\n",
       "<style scoped>\n",
       "    .dataframe tbody tr th:only-of-type {\n",
       "        vertical-align: middle;\n",
       "    }\n",
       "\n",
       "    .dataframe tbody tr th {\n",
       "        vertical-align: top;\n",
       "    }\n",
       "\n",
       "    .dataframe thead th {\n",
       "        text-align: right;\n",
       "    }\n",
       "</style>\n",
       "<table border=\"1\" class=\"dataframe\">\n",
       "  <thead>\n",
       "    <tr style=\"text-align: right;\">\n",
       "      <th></th>\n",
       "      <th>CRIM</th>\n",
       "      <th>ZN</th>\n",
       "      <th>INDUS</th>\n",
       "      <th>CHAS</th>\n",
       "      <th>NOX</th>\n",
       "      <th>RM</th>\n",
       "      <th>AGE</th>\n",
       "      <th>DIS</th>\n",
       "      <th>RAD</th>\n",
       "      <th>TAX</th>\n",
       "      <th>PTRATIO</th>\n",
       "      <th>B</th>\n",
       "      <th>LSTAT</th>\n",
       "      <th>MEDV</th>\n",
       "    </tr>\n",
       "  </thead>\n",
       "  <tbody>\n",
       "    <tr>\n",
       "      <th>0</th>\n",
       "      <td>0.02731</td>\n",
       "      <td>0.0</td>\n",
       "      <td>7.07</td>\n",
       "      <td>0</td>\n",
       "      <td>0.469</td>\n",
       "      <td>6.421</td>\n",
       "      <td>78.9</td>\n",
       "      <td>4.9671</td>\n",
       "      <td>2</td>\n",
       "      <td>242.0</td>\n",
       "      <td>17.8</td>\n",
       "      <td>396.90</td>\n",
       "      <td>9.14</td>\n",
       "      <td>21.6</td>\n",
       "    </tr>\n",
       "    <tr>\n",
       "      <th>1</th>\n",
       "      <td>0.02729</td>\n",
       "      <td>0.0</td>\n",
       "      <td>7.07</td>\n",
       "      <td>0</td>\n",
       "      <td>0.469</td>\n",
       "      <td>7.185</td>\n",
       "      <td>61.1</td>\n",
       "      <td>4.9671</td>\n",
       "      <td>2</td>\n",
       "      <td>242.0</td>\n",
       "      <td>17.8</td>\n",
       "      <td>392.83</td>\n",
       "      <td>4.03</td>\n",
       "      <td>34.7</td>\n",
       "    </tr>\n",
       "    <tr>\n",
       "      <th>2</th>\n",
       "      <td>0.03237</td>\n",
       "      <td>0.0</td>\n",
       "      <td>2.18</td>\n",
       "      <td>0</td>\n",
       "      <td>0.458</td>\n",
       "      <td>6.998</td>\n",
       "      <td>45.8</td>\n",
       "      <td>6.0622</td>\n",
       "      <td>3</td>\n",
       "      <td>222.0</td>\n",
       "      <td>18.7</td>\n",
       "      <td>394.63</td>\n",
       "      <td>2.94</td>\n",
       "      <td>33.4</td>\n",
       "    </tr>\n",
       "    <tr>\n",
       "      <th>3</th>\n",
       "      <td>0.06905</td>\n",
       "      <td>0.0</td>\n",
       "      <td>2.18</td>\n",
       "      <td>0</td>\n",
       "      <td>0.458</td>\n",
       "      <td>7.147</td>\n",
       "      <td>54.2</td>\n",
       "      <td>6.0622</td>\n",
       "      <td>3</td>\n",
       "      <td>222.0</td>\n",
       "      <td>18.7</td>\n",
       "      <td>396.90</td>\n",
       "      <td>5.33</td>\n",
       "      <td>36.2</td>\n",
       "    </tr>\n",
       "    <tr>\n",
       "      <th>4</th>\n",
       "      <td>0.02985</td>\n",
       "      <td>0.0</td>\n",
       "      <td>2.18</td>\n",
       "      <td>0</td>\n",
       "      <td>0.458</td>\n",
       "      <td>6.430</td>\n",
       "      <td>58.7</td>\n",
       "      <td>6.0622</td>\n",
       "      <td>3</td>\n",
       "      <td>222.0</td>\n",
       "      <td>18.7</td>\n",
       "      <td>394.12</td>\n",
       "      <td>5.21</td>\n",
       "      <td>28.7</td>\n",
       "    </tr>\n",
       "  </tbody>\n",
       "</table>\n",
       "</div>"
      ],
      "text/plain": [
       "      CRIM   ZN  INDUS  CHAS    NOX     RM   AGE     DIS  RAD    TAX  PTRATIO  \\\n",
       "0  0.02731  0.0   7.07     0  0.469  6.421  78.9  4.9671    2  242.0     17.8   \n",
       "1  0.02729  0.0   7.07     0  0.469  7.185  61.1  4.9671    2  242.0     17.8   \n",
       "2  0.03237  0.0   2.18     0  0.458  6.998  45.8  6.0622    3  222.0     18.7   \n",
       "3  0.06905  0.0   2.18     0  0.458  7.147  54.2  6.0622    3  222.0     18.7   \n",
       "4  0.02985  0.0   2.18     0  0.458  6.430  58.7  6.0622    3  222.0     18.7   \n",
       "\n",
       "        B  LSTAT  MEDV  \n",
       "0  396.90   9.14  21.6  \n",
       "1  392.83   4.03  34.7  \n",
       "2  394.63   2.94  33.4  \n",
       "3  396.90   5.33  36.2  \n",
       "4  394.12   5.21  28.7  "
      ]
     },
     "execution_count": 44,
     "metadata": {},
     "output_type": "execute_result"
    }
   ],
   "source": [
    "# Load the DataFrame\n",
    "df = pd.read_csv('datasets/Boston_housing.csv', delim_whitespace=True)\n",
    "\n",
    "column_names = ['CRIM', 'ZN', 'INDUS', 'CHAS', 'NOX', 'RM', 'AGE', 'DIS', 'RAD', 'TAX', 'PTRATIO', 'B', 'LSTAT', 'MEDV']\n",
    "\n",
    "# Assign the names to the columns\n",
    "df.columns = column_names\n",
    "df.head()"
   ]
  },
  {
   "cell_type": "markdown",
   "metadata": {
    "id": "13_ydLoNWABj"
   },
   "source": [
    "#### Basic Info and description of DataFrame"
   ]
  },
  {
   "cell_type": "code",
   "execution_count": 45,
   "metadata": {
    "colab": {
     "base_uri": "https://localhost:8080/",
     "height": 300
    },
    "id": "TqA2YmaSRiwl",
    "outputId": "559663c7-fae6-4b6c-ea15-dafc85770493"
   },
   "outputs": [
    {
     "data": {
      "text/html": [
       "<div>\n",
       "<style scoped>\n",
       "    .dataframe tbody tr th:only-of-type {\n",
       "        vertical-align: middle;\n",
       "    }\n",
       "\n",
       "    .dataframe tbody tr th {\n",
       "        vertical-align: top;\n",
       "    }\n",
       "\n",
       "    .dataframe thead th {\n",
       "        text-align: right;\n",
       "    }\n",
       "</style>\n",
       "<table border=\"1\" class=\"dataframe\">\n",
       "  <thead>\n",
       "    <tr style=\"text-align: right;\">\n",
       "      <th></th>\n",
       "      <th>CRIM</th>\n",
       "      <th>ZN</th>\n",
       "      <th>INDUS</th>\n",
       "      <th>CHAS</th>\n",
       "      <th>NOX</th>\n",
       "      <th>RM</th>\n",
       "      <th>AGE</th>\n",
       "      <th>DIS</th>\n",
       "      <th>RAD</th>\n",
       "      <th>TAX</th>\n",
       "      <th>PTRATIO</th>\n",
       "      <th>B</th>\n",
       "      <th>LSTAT</th>\n",
       "      <th>MEDV</th>\n",
       "    </tr>\n",
       "  </thead>\n",
       "  <tbody>\n",
       "    <tr>\n",
       "      <th>count</th>\n",
       "      <td>505.000000</td>\n",
       "      <td>505.000000</td>\n",
       "      <td>505.000000</td>\n",
       "      <td>505.000000</td>\n",
       "      <td>505.000000</td>\n",
       "      <td>505.000000</td>\n",
       "      <td>505.000000</td>\n",
       "      <td>505.000000</td>\n",
       "      <td>505.000000</td>\n",
       "      <td>505.000000</td>\n",
       "      <td>505.000000</td>\n",
       "      <td>505.000000</td>\n",
       "      <td>505.000000</td>\n",
       "      <td>505.000000</td>\n",
       "    </tr>\n",
       "    <tr>\n",
       "      <th>mean</th>\n",
       "      <td>3.620667</td>\n",
       "      <td>11.350495</td>\n",
       "      <td>11.154257</td>\n",
       "      <td>0.069307</td>\n",
       "      <td>0.554728</td>\n",
       "      <td>6.284059</td>\n",
       "      <td>68.581584</td>\n",
       "      <td>3.794459</td>\n",
       "      <td>9.566337</td>\n",
       "      <td>408.459406</td>\n",
       "      <td>18.461782</td>\n",
       "      <td>356.594376</td>\n",
       "      <td>12.668257</td>\n",
       "      <td>22.529901</td>\n",
       "    </tr>\n",
       "    <tr>\n",
       "      <th>std</th>\n",
       "      <td>8.608572</td>\n",
       "      <td>23.343704</td>\n",
       "      <td>6.855868</td>\n",
       "      <td>0.254227</td>\n",
       "      <td>0.115990</td>\n",
       "      <td>0.703195</td>\n",
       "      <td>28.176371</td>\n",
       "      <td>2.107757</td>\n",
       "      <td>8.707553</td>\n",
       "      <td>168.629992</td>\n",
       "      <td>2.162520</td>\n",
       "      <td>91.367787</td>\n",
       "      <td>7.139950</td>\n",
       "      <td>9.205991</td>\n",
       "    </tr>\n",
       "    <tr>\n",
       "      <th>min</th>\n",
       "      <td>0.009060</td>\n",
       "      <td>0.000000</td>\n",
       "      <td>0.460000</td>\n",
       "      <td>0.000000</td>\n",
       "      <td>0.385000</td>\n",
       "      <td>3.561000</td>\n",
       "      <td>2.900000</td>\n",
       "      <td>1.129600</td>\n",
       "      <td>1.000000</td>\n",
       "      <td>187.000000</td>\n",
       "      <td>12.600000</td>\n",
       "      <td>0.320000</td>\n",
       "      <td>1.730000</td>\n",
       "      <td>5.000000</td>\n",
       "    </tr>\n",
       "    <tr>\n",
       "      <th>25%</th>\n",
       "      <td>0.082210</td>\n",
       "      <td>0.000000</td>\n",
       "      <td>5.190000</td>\n",
       "      <td>0.000000</td>\n",
       "      <td>0.449000</td>\n",
       "      <td>5.885000</td>\n",
       "      <td>45.000000</td>\n",
       "      <td>2.100000</td>\n",
       "      <td>4.000000</td>\n",
       "      <td>279.000000</td>\n",
       "      <td>17.400000</td>\n",
       "      <td>375.330000</td>\n",
       "      <td>7.010000</td>\n",
       "      <td>17.000000</td>\n",
       "    </tr>\n",
       "    <tr>\n",
       "      <th>50%</th>\n",
       "      <td>0.259150</td>\n",
       "      <td>0.000000</td>\n",
       "      <td>9.690000</td>\n",
       "      <td>0.000000</td>\n",
       "      <td>0.538000</td>\n",
       "      <td>6.208000</td>\n",
       "      <td>77.700000</td>\n",
       "      <td>3.199200</td>\n",
       "      <td>5.000000</td>\n",
       "      <td>330.000000</td>\n",
       "      <td>19.100000</td>\n",
       "      <td>391.430000</td>\n",
       "      <td>11.380000</td>\n",
       "      <td>21.200000</td>\n",
       "    </tr>\n",
       "    <tr>\n",
       "      <th>75%</th>\n",
       "      <td>3.678220</td>\n",
       "      <td>12.500000</td>\n",
       "      <td>18.100000</td>\n",
       "      <td>0.000000</td>\n",
       "      <td>0.624000</td>\n",
       "      <td>6.625000</td>\n",
       "      <td>94.100000</td>\n",
       "      <td>5.211900</td>\n",
       "      <td>24.000000</td>\n",
       "      <td>666.000000</td>\n",
       "      <td>20.200000</td>\n",
       "      <td>396.210000</td>\n",
       "      <td>16.960000</td>\n",
       "      <td>25.000000</td>\n",
       "    </tr>\n",
       "    <tr>\n",
       "      <th>max</th>\n",
       "      <td>88.976200</td>\n",
       "      <td>100.000000</td>\n",
       "      <td>27.740000</td>\n",
       "      <td>1.000000</td>\n",
       "      <td>0.871000</td>\n",
       "      <td>8.780000</td>\n",
       "      <td>100.000000</td>\n",
       "      <td>12.126500</td>\n",
       "      <td>24.000000</td>\n",
       "      <td>711.000000</td>\n",
       "      <td>22.000000</td>\n",
       "      <td>396.900000</td>\n",
       "      <td>37.970000</td>\n",
       "      <td>50.000000</td>\n",
       "    </tr>\n",
       "  </tbody>\n",
       "</table>\n",
       "</div>"
      ],
      "text/plain": [
       "             CRIM          ZN       INDUS        CHAS         NOX          RM  \\\n",
       "count  505.000000  505.000000  505.000000  505.000000  505.000000  505.000000   \n",
       "mean     3.620667   11.350495   11.154257    0.069307    0.554728    6.284059   \n",
       "std      8.608572   23.343704    6.855868    0.254227    0.115990    0.703195   \n",
       "min      0.009060    0.000000    0.460000    0.000000    0.385000    3.561000   \n",
       "25%      0.082210    0.000000    5.190000    0.000000    0.449000    5.885000   \n",
       "50%      0.259150    0.000000    9.690000    0.000000    0.538000    6.208000   \n",
       "75%      3.678220   12.500000   18.100000    0.000000    0.624000    6.625000   \n",
       "max     88.976200  100.000000   27.740000    1.000000    0.871000    8.780000   \n",
       "\n",
       "              AGE         DIS         RAD         TAX     PTRATIO           B  \\\n",
       "count  505.000000  505.000000  505.000000  505.000000  505.000000  505.000000   \n",
       "mean    68.581584    3.794459    9.566337  408.459406   18.461782  356.594376   \n",
       "std     28.176371    2.107757    8.707553  168.629992    2.162520   91.367787   \n",
       "min      2.900000    1.129600    1.000000  187.000000   12.600000    0.320000   \n",
       "25%     45.000000    2.100000    4.000000  279.000000   17.400000  375.330000   \n",
       "50%     77.700000    3.199200    5.000000  330.000000   19.100000  391.430000   \n",
       "75%     94.100000    5.211900   24.000000  666.000000   20.200000  396.210000   \n",
       "max    100.000000   12.126500   24.000000  711.000000   22.000000  396.900000   \n",
       "\n",
       "            LSTAT        MEDV  \n",
       "count  505.000000  505.000000  \n",
       "mean    12.668257   22.529901  \n",
       "std      7.139950    9.205991  \n",
       "min      1.730000    5.000000  \n",
       "25%      7.010000   17.000000  \n",
       "50%     11.380000   21.200000  \n",
       "75%     16.960000   25.000000  \n",
       "max     37.970000   50.000000  "
      ]
     },
     "execution_count": 45,
     "metadata": {},
     "output_type": "execute_result"
    }
   ],
   "source": [
    "df.describe()"
   ]
  },
  {
   "cell_type": "code",
   "execution_count": 46,
   "metadata": {
    "colab": {
     "base_uri": "https://localhost:8080/"
    },
    "id": "Ryz0jf00V4Cn",
    "outputId": "5e7c17e7-e241-4325-938f-69b943f2b7a9"
   },
   "outputs": [
    {
     "name": "stdout",
     "output_type": "stream",
     "text": [
      "<class 'pandas.core.frame.DataFrame'>\n",
      "RangeIndex: 505 entries, 0 to 504\n",
      "Data columns (total 14 columns):\n",
      " #   Column   Non-Null Count  Dtype  \n",
      "---  ------   --------------  -----  \n",
      " 0   CRIM     505 non-null    float64\n",
      " 1   ZN       505 non-null    float64\n",
      " 2   INDUS    505 non-null    float64\n",
      " 3   CHAS     505 non-null    int64  \n",
      " 4   NOX      505 non-null    float64\n",
      " 5   RM       505 non-null    float64\n",
      " 6   AGE      505 non-null    float64\n",
      " 7   DIS      505 non-null    float64\n",
      " 8   RAD      505 non-null    int64  \n",
      " 9   TAX      505 non-null    float64\n",
      " 10  PTRATIO  505 non-null    float64\n",
      " 11  B        505 non-null    float64\n",
      " 12  LSTAT    505 non-null    float64\n",
      " 13  MEDV     505 non-null    float64\n",
      "dtypes: float64(12), int64(2)\n",
      "memory usage: 55.4 KB\n"
     ]
    }
   ],
   "source": [
    "df.info()"
   ]
  },
  {
   "cell_type": "code",
   "execution_count": 47,
   "metadata": {
    "colab": {
     "base_uri": "https://localhost:8080/"
    },
    "id": "82xdSEjnV9XB",
    "outputId": "56d32ba0-fff4-4887-9f62-9c86fceee58e"
   },
   "outputs": [
    {
     "data": {
      "text/plain": [
       "(505, 14)"
      ]
     },
     "execution_count": 47,
     "metadata": {},
     "output_type": "execute_result"
    }
   ],
   "source": [
    "df.shape"
   ]
  },
  {
   "cell_type": "code",
   "execution_count": 48,
   "metadata": {
    "id": "RPlj5b3EXvNN"
   },
   "outputs": [],
   "source": [
    "# Defining the features (X) and the target (y)\n",
    "X = df.drop('MEDV', axis=1)\n",
    "y = df['MEDV']\n",
    "\n",
    "# Train/Test split\n",
    "X_train, X_test, y_train, y_test = train_test_split(X, y, test_size=0.2, random_state=42)"
   ]
  },
  {
   "cell_type": "markdown",
   "metadata": {
    "id": "-BdDIBoeYtAw"
   },
   "source": [
    "### Simple Linear Regression"
   ]
  },
  {
   "cell_type": "code",
   "execution_count": 49,
   "metadata": {
    "colab": {
     "base_uri": "https://localhost:8080/",
     "height": 491
    },
    "id": "rx76kocrYFBe",
    "outputId": "7ba79940-be39-4080-c429-e85a2a4a1894"
   },
   "outputs": [
    {
     "data": {
      "text/plain": [
       "CRIM      -0.388249\n",
       "ZN         0.360393\n",
       "INDUS     -0.484126\n",
       "CHAS       0.175364\n",
       "NOX       -0.427295\n",
       "RM         0.695365\n",
       "AGE       -0.376932\n",
       "DIS        0.249896\n",
       "RAD       -0.381690\n",
       "TAX       -0.468543\n",
       "PTRATIO   -0.508411\n",
       "B          0.333394\n",
       "LSTAT     -0.738187\n",
       "Name: MEDV, dtype: float64"
      ]
     },
     "execution_count": 49,
     "metadata": {},
     "output_type": "execute_result"
    }
   ],
   "source": [
    "# Simple Linear Regression (using the most correlated variable)\n",
    "correlations = df.corr()['MEDV'].drop('MEDV')\n",
    "correlations"
   ]
  },
  {
   "cell_type": "code",
   "execution_count": 50,
   "metadata": {
    "colab": {
     "base_uri": "https://localhost:8080/",
     "height": 36
    },
    "id": "J0BE_mpRYHQs",
    "outputId": "bd061b68-10ae-4b4f-fc78-e257d93615f1"
   },
   "outputs": [
    {
     "data": {
      "text/plain": [
       "'LSTAT'"
      ]
     },
     "execution_count": 50,
     "metadata": {},
     "output_type": "execute_result"
    }
   ],
   "source": [
    "# Most correlated variable\n",
    "most_correlated_feature = correlations.abs().idxmax()\n",
    "most_correlated_feature"
   ]
  },
  {
   "cell_type": "code",
   "execution_count": 51,
   "metadata": {
    "id": "Vw-adbsWYOcn"
   },
   "outputs": [],
   "source": [
    "# Train/Test (using the most correlated variable)\n",
    "X_simple_train = X_train[[most_correlated_feature]]\n",
    "X_simple_test = X_test[[most_correlated_feature]]"
   ]
  },
  {
   "cell_type": "code",
   "execution_count": 52,
   "metadata": {
    "colab": {
     "base_uri": "https://localhost:8080/"
    },
    "id": "ZiXy7bl_YbE_",
    "outputId": "1ad2197e-1ec7-4446-ca55-faf84ffc0229"
   },
   "outputs": [
    {
     "name": "stdout",
     "output_type": "stream",
     "text": [
      "Simple Linear Regression:\n",
      "Mean Squared Error (MSE): 27.87627\n",
      "R^2: 0.49973\n"
     ]
    }
   ],
   "source": [
    "simple_model = LinearRegression()\n",
    "simple_model.fit(X_simple_train, y_train)\n",
    "simple_predictions = simple_model.predict(X_simple_test)\n",
    "\n",
    "mse_slr = mean_squared_error(y_test, simple_predictions)\n",
    "r2_slr = r2_score(y_test, simple_predictions)\n",
    "\n",
    "print(\"Simple Linear Regression:\")\n",
    "print(f\"Mean Squared Error (MSE): {mse_slr:.5f}\")\n",
    "print(f\"R^2: {r2_slr:.5f}\")"
   ]
  },
  {
   "cell_type": "code",
   "execution_count": 53,
   "metadata": {
    "colab": {
     "base_uri": "https://localhost:8080/"
    },
    "id": "ZlA5uBfTalZ0",
    "outputId": "36f0e1c6-f020-4081-a692-ab1c11bf2fab"
   },
   "outputs": [
    {
     "data": {
      "text/plain": [
       "(-0.9924643923428138, 35.34730929767673)"
      ]
     },
     "execution_count": 53,
     "metadata": {},
     "output_type": "execute_result"
    }
   ],
   "source": [
    "# Slope and intercept\n",
    "slope = simple_model.coef_[0]\n",
    "intercept = simple_model.intercept_\n",
    "slope, intercept"
   ]
  },
  {
   "cell_type": "code",
   "execution_count": 54,
   "metadata": {
    "id": "AFi7mo78ao5A"
   },
   "outputs": [],
   "source": [
    "# In order to plot these values, they need to be converted to Numpy arrays.\n",
    "y_line = np.array(slope * X_simple_train + intercept)\n",
    "X_simple_train = np.array(X_simple_train)"
   ]
  },
  {
   "cell_type": "code",
   "execution_count": 55,
   "metadata": {},
   "outputs": [
    {
     "data": {
      "text/plain": [
       "((404, 1), (404, 1))"
      ]
     },
     "execution_count": 55,
     "metadata": {},
     "output_type": "execute_result"
    }
   ],
   "source": [
    "y_line.shape, X_simple_train.shape"
   ]
  },
  {
   "cell_type": "code",
   "execution_count": 56,
   "metadata": {
    "colab": {
     "base_uri": "https://localhost:8080/",
     "height": 565
    },
    "id": "_eRqdqlPY3se",
    "outputId": "143d9a48-50f0-43c8-d57b-3d67e019c3ef"
   },
   "outputs": [
    {
     "data": {
      "image/png": "[encoded data removed]",
      "text/plain": [
       "<Figure size 576x432 with 1 Axes>"
      ]
     },
     "metadata": {
      "needs_background": "light"
     },
     "output_type": "display_data"
    }
   ],
   "source": [
    "# Scatter plot: Actual values vs. Predictions (Simple Linear Regression)\n",
    "plt.figure(figsize=(8, 6))\n",
    "plt.scatter(X_simple_train, y_train, alpha=0.5)\n",
    "plt.plot(X_simple_train, y_line, color='red')  # Reference line\n",
    "plt.xlabel(\"Actual Values\")\n",
    "plt.ylabel(\"Predicted Values\")\n",
    "plt.title(\"Actual values vs. Predictions (Simple Linear Regression)\")\n",
    "plt.show()"
   ]
  },
  {
   "cell_type": "markdown",
   "metadata": {
    "id": "229REy7ucJIJ"
   },
   "source": [
    "### Multivariate Linear Regression"
   ]
  },
  {
   "cell_type": "code",
   "execution_count": 57,
   "metadata": {},
   "outputs": [
    {
     "name": "stdout",
     "output_type": "stream",
     "text": [
      "Most important features: Index(['CHAS', 'NOX', 'RM', 'DIS', 'RAD', 'PTRATIO', 'LSTAT'], dtype='object')\n"
     ]
    }
   ],
   "source": [
    "# We will use only the most important variables (using 'median' as metric from SelectFromModel)\n",
    "# This will  will select the features whose importance (absolute coefficients for linear regression) is greater than or equal to the median of the computed importances.\n",
    "multivariate_model = LinearRegression()\n",
    "multivariate_model.fit(X_train, y_train)\n",
    "selector = SelectFromModel(multivariate_model, threshold='median', prefit=True)\n",
    "support = selector.get_support()\n",
    "\n",
    "# Identifying the most important features\n",
    "important_cols = X_train.columns[support]\n",
    "print('Most important features:', important_cols)"
   ]
  },
  {
   "cell_type": "code",
   "execution_count": 58,
   "metadata": {},
   "outputs": [],
   "source": [
    "X_train_important = X_train[important_cols]\n",
    "X_test_important = X_test[important_cols]"
   ]
  },
  {
   "cell_type": "code",
   "execution_count": 59,
   "metadata": {},
   "outputs": [
    {
     "data": {
      "text/plain": [
       "LinearRegression()"
      ]
     },
     "execution_count": 59,
     "metadata": {},
     "output_type": "execute_result"
    }
   ],
   "source": [
    "# Refined model\n",
    "refined_multivariate_model = LinearRegression()\n",
    "refined_multivariate_model.fit(X_train_important, y_train)"
   ]
  },
  {
   "cell_type": "code",
   "execution_count": 68,
   "metadata": {},
   "outputs": [
    {
     "name": "stdout",
     "output_type": "stream",
     "text": [
      "\n",
      "Multivariate Linear Regression:\n",
      "Mean Squared Error (MSE): 19.85794\n",
      "R^2: 0.64363\n"
     ]
    }
   ],
   "source": [
    "multivariate_preds = refined_multivariate_model.predict(X_test_important)\n",
    "\n",
    "mse_mlr = mean_squared_error(y_test, multivariate_preds)\n",
    "r2_mlr = r2_score(y_test, multivariate_preds)\n",
    "\n",
    "print(\"\\nMultivariate Linear Regression:\")\n",
    "print(f\"Mean Squared Error (MSE): {mse_MLR:.5f}\")\n",
    "print(f\"R^2: {r2_MLR:.5f}\")"
   ]
  },
  {
   "cell_type": "markdown",
   "metadata": {
    "id": "sRHWNeVOgv8D"
   },
   "source": [
    "#### Multivariate Polynomical Regression"
   ]
  },
  {
   "cell_type": "code",
   "execution_count": null,
   "metadata": {
    "colab": {
     "base_uri": "https://localhost:8080/"
    },
    "id": "EsP3msPGcSpU",
    "outputId": "3f37c03b-2a98-4157-8a86-1e3f8a6fca6b"
   },
   "outputs": [
    {
     "name": "stdout",
     "output_type": "stream",
     "text": [
      "\n",
      "Multivariate Polynomial Regression:\n",
      "Mean Squared Error (MSE): 9.23557\n",
      "R^2: 0.83426\n"
     ]
    }
   ],
   "source": [
    "# Multivariate Polynomial Regression\n",
    "poly = PolynomialFeatures(degree=2) # Setting the degree\n",
    "X_poly_train = poly.fit_transform(X_train) # We are using all the features in X_train\n",
    "X_poly_test = poly.transform(X_test)\n",
    "\n",
    "polynomial_model = LinearRegression()\n",
    "polynomial_model.fit(X_poly_train, y_train)\n",
    "polynomial_predictions = polynomial_model.predict(X_poly_test)\n",
    "\n",
    "mse_poly = mean_squared_error(y_test, polynomial_predictions)\n",
    "r2_poly = r2_score(y_test, polynomial_predictions)\n",
    "\n",
    "print(\"\\nMultivariate Polynomial Regression:\")\n",
    "print(f\"Mean Squared Error (MSE): {mse_poly:.5f}\")\n",
    "print(f\"R^2: {r2_poly:.5f}\")"
   ]
  },
  {
   "cell_type": "markdown",
   "metadata": {},
   "source": [
    "#### Comparing the models: SLR vs MLR vs MPR"
   ]
  },
  {
   "cell_type": "code",
   "execution_count": 71,
   "metadata": {},
   "outputs": [
    {
     "data": {
      "text/html": [
       "<div>\n",
       "<style scoped>\n",
       "    .dataframe tbody tr th:only-of-type {\n",
       "        vertical-align: middle;\n",
       "    }\n",
       "\n",
       "    .dataframe tbody tr th {\n",
       "        vertical-align: top;\n",
       "    }\n",
       "\n",
       "    .dataframe thead th {\n",
       "        text-align: right;\n",
       "    }\n",
       "</style>\n",
       "<table border=\"1\" class=\"dataframe\">\n",
       "  <thead>\n",
       "    <tr style=\"text-align: right;\">\n",
       "      <th></th>\n",
       "      <th>Model</th>\n",
       "      <th>MSE</th>\n",
       "      <th>R^2</th>\n",
       "    </tr>\n",
       "  </thead>\n",
       "  <tbody>\n",
       "    <tr>\n",
       "      <th>0</th>\n",
       "      <td>Simple Linear Regression</td>\n",
       "      <td>27.876273</td>\n",
       "      <td>0.499727</td>\n",
       "    </tr>\n",
       "    <tr>\n",
       "      <th>1</th>\n",
       "      <td>Multivariate Linear Regression</td>\n",
       "      <td>19.857940</td>\n",
       "      <td>0.643626</td>\n",
       "    </tr>\n",
       "    <tr>\n",
       "      <th>2</th>\n",
       "      <td>Multivariate Polynomial Regression</td>\n",
       "      <td>9.235566</td>\n",
       "      <td>0.834257</td>\n",
       "    </tr>\n",
       "  </tbody>\n",
       "</table>\n",
       "</div>"
      ],
      "text/plain": [
       "                                Model        MSE       R^2\n",
       "0            Simple Linear Regression  27.876273  0.499727\n",
       "1      Multivariate Linear Regression  19.857940  0.643626\n",
       "2  Multivariate Polynomial Regression   9.235566  0.834257"
      ]
     },
     "execution_count": 71,
     "metadata": {},
     "output_type": "execute_result"
    }
   ],
   "source": [
    "results = {\n",
    "    'Model': ['Simple Linear Regression', 'Multivariate Linear Regression', 'Multivariate Polynomial Regression'],\n",
    "    'MSE': [mse_slr, mse_mlr, mse_poly],\n",
    "    'R^2': [r2_slr, r2_mlr, r2_poly]\n",
    "}\n",
    "\n",
    "df_results = pd.DataFrame(results)\n",
    "df_results"
   ]
  },
  {
   "cell_type": "markdown",
   "metadata": {},
   "source": [
    "According to the above results. The best model is the `Multivariate Polynomial Regression`, which has:\n",
    "- __MSE:__ 9.2355\n",
    "- __R2:__ 0.83"
   ]
  }
 ],
 "metadata": {
  "colab": {
   "provenance": []
  },
  "kernelspec": {
   "display_name": "base",
   "language": "python",
   "name": "python3"
  },
  "language_info": {
   "codemirror_mode": {
    "name": "ipython",
    "version": 3
   },
   "file_extension": ".py",
   "mimetype": "text/x-python",
   "name": "python",
   "nbconvert_exporter": "python",
   "pygments_lexer": "ipython3",
   "version": "3.9.12"
  }
 },
 "nbformat": 4,
 "nbformat_minor": 0
}
