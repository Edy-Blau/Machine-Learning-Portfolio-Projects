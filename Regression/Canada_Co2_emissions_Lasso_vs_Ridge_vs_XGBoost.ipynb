{
 "cells": [
  {
   "cell_type": "markdown",
   "metadata": {},
   "source": [
    "# Canada CO2 Emissions Predictions\n",
    "### Lasso Regression vs Ridge Regression vs XGboost Regressor\n",
    "- Source: Fuel Consumption Ratings - https://open.canada.ca/data/en/dataset/98f1a129-f628-4ce4-b24d-6f16bf24dd64\n",
    "- Modified / Edited by: Edy Blau\n",
    "- Date: 12/11/2024"
   ]
  },
  {
   "cell_type": "markdown",
   "metadata": {},
   "source": [
    "This dataset contains model-specific fuel consumption ratings and estimated carbon dioxide emissions for new light-duty vehicles for retail sale in Canada.\n",
    "\n",
    "- **MODELYEAR** e.g. 2014\n",
    "- **MAKE** e.g. Acura\n",
    "- **MODEL** e.g. ILX\n",
    "- **VEHICLE CLASS** e.g. SUV\n",
    "- **ENGINE SIZE** e.g. 4.7\n",
    "- **CYLINDERS** e.g 6\n",
    "- **TRANSMISSION** e.g. A6\n",
    "- **FUELTYPE** e.g. z\n",
    "- **FUEL CONSUMPTION in CITY(L/100 km)** e.g. 9.9\n",
    "- **FUEL CONSUMPTION in HWY (L/100 km)** e.g. 8.9\n",
    "- **FUEL CONSUMPTION COMB (L/100 km)** e.g. 9.2\n",
    "- **CO2 EMISSIONS (g/km)** e.g. 182   --> low --> 0"
   ]
  },
  {
   "cell_type": "markdown",
   "metadata": {},
   "source": [
    "#### Upload the .csv file"
   ]
  },
  {
   "cell_type": "code",
   "execution_count": 1,
   "metadata": {},
   "outputs": [],
   "source": [
    "# Import libraries\n",
    "import pandas as pd\n",
    "import numpy as np\n",
    "from sklearn.model_selection import train_test_split\n",
    "from sklearn.metrics import mean_squared_error, r2_score\n",
    "from sklearn.pipeline import Pipeline\n",
    "from sklearn.preprocessing import StandardScaler\n",
    "from sklearn.linear_model import Lasso, Ridge\n",
    "from xgboost import XGBRegressor\n",
    "import matplotlib.pyplot as plt\n",
    "import seaborn as sns"
   ]
  },
  {
   "cell_type": "code",
   "execution_count": 2,
   "metadata": {},
   "outputs": [
    {
     "data": {
      "text/html": [
       "<div>\n",
       "<style scoped>\n",
       "    .dataframe tbody tr th:only-of-type {\n",
       "        vertical-align: middle;\n",
       "    }\n",
       "\n",
       "    .dataframe tbody tr th {\n",
       "        vertical-align: top;\n",
       "    }\n",
       "\n",
       "    .dataframe thead th {\n",
       "        text-align: right;\n",
       "    }\n",
       "</style>\n",
       "<table border=\"1\" class=\"dataframe\">\n",
       "  <thead>\n",
       "    <tr style=\"text-align: right;\">\n",
       "      <th></th>\n",
       "      <th>Model year</th>\n",
       "      <th>Make</th>\n",
       "      <th>Model</th>\n",
       "      <th>Vehicle class</th>\n",
       "      <th>Engine size (L)</th>\n",
       "      <th>Cylinders</th>\n",
       "      <th>Transmission</th>\n",
       "      <th>Fuel type</th>\n",
       "      <th>City (L/100 km)</th>\n",
       "      <th>Highway (L/100 km)</th>\n",
       "      <th>Combined (L/100 km)</th>\n",
       "      <th>Combined (mpg)</th>\n",
       "      <th>CO2 emissions (g/km)</th>\n",
       "      <th>CO2 rating</th>\n",
       "      <th>Smog rating</th>\n",
       "    </tr>\n",
       "  </thead>\n",
       "  <tbody>\n",
       "    <tr>\n",
       "      <th>0</th>\n",
       "      <td>2024</td>\n",
       "      <td>Acura</td>\n",
       "      <td>Integra A-SPEC</td>\n",
       "      <td>Full-size</td>\n",
       "      <td>1.5</td>\n",
       "      <td>4</td>\n",
       "      <td>AV7</td>\n",
       "      <td>Z</td>\n",
       "      <td>8.1</td>\n",
       "      <td>6.5</td>\n",
       "      <td>7.4</td>\n",
       "      <td>38</td>\n",
       "      <td>172</td>\n",
       "      <td>6</td>\n",
       "      <td>7</td>\n",
       "    </tr>\n",
       "    <tr>\n",
       "      <th>1</th>\n",
       "      <td>2024</td>\n",
       "      <td>Acura</td>\n",
       "      <td>Integra A-SPEC</td>\n",
       "      <td>Full-size</td>\n",
       "      <td>1.5</td>\n",
       "      <td>4</td>\n",
       "      <td>M6</td>\n",
       "      <td>Z</td>\n",
       "      <td>8.9</td>\n",
       "      <td>6.5</td>\n",
       "      <td>7.8</td>\n",
       "      <td>36</td>\n",
       "      <td>181</td>\n",
       "      <td>6</td>\n",
       "      <td>6</td>\n",
       "    </tr>\n",
       "    <tr>\n",
       "      <th>2</th>\n",
       "      <td>2024</td>\n",
       "      <td>Acura</td>\n",
       "      <td>Integra Type S</td>\n",
       "      <td>Full-size</td>\n",
       "      <td>2.0</td>\n",
       "      <td>4</td>\n",
       "      <td>M6</td>\n",
       "      <td>Z</td>\n",
       "      <td>11.1</td>\n",
       "      <td>8.3</td>\n",
       "      <td>9.9</td>\n",
       "      <td>29</td>\n",
       "      <td>230</td>\n",
       "      <td>5</td>\n",
       "      <td>6</td>\n",
       "    </tr>\n",
       "    <tr>\n",
       "      <th>3</th>\n",
       "      <td>2024</td>\n",
       "      <td>Acura</td>\n",
       "      <td>MDX SH-AWD</td>\n",
       "      <td>Sport utility vehicle: Small</td>\n",
       "      <td>3.5</td>\n",
       "      <td>6</td>\n",
       "      <td>AS10</td>\n",
       "      <td>Z</td>\n",
       "      <td>12.6</td>\n",
       "      <td>9.4</td>\n",
       "      <td>11.2</td>\n",
       "      <td>25</td>\n",
       "      <td>263</td>\n",
       "      <td>4</td>\n",
       "      <td>5</td>\n",
       "    </tr>\n",
       "    <tr>\n",
       "      <th>4</th>\n",
       "      <td>2024</td>\n",
       "      <td>Acura</td>\n",
       "      <td>MDX SH-AWD Type S</td>\n",
       "      <td>Sport utility vehicle: Standard</td>\n",
       "      <td>3.0</td>\n",
       "      <td>6</td>\n",
       "      <td>AS10</td>\n",
       "      <td>Z</td>\n",
       "      <td>13.8</td>\n",
       "      <td>11.2</td>\n",
       "      <td>12.4</td>\n",
       "      <td>23</td>\n",
       "      <td>291</td>\n",
       "      <td>4</td>\n",
       "      <td>5</td>\n",
       "    </tr>\n",
       "  </tbody>\n",
       "</table>\n",
       "</div>"
      ],
      "text/plain": [
       "   Model year   Make              Model                    Vehicle class  \\\n",
       "0        2024  Acura     Integra A-SPEC                        Full-size   \n",
       "1        2024  Acura     Integra A-SPEC                        Full-size   \n",
       "2        2024  Acura     Integra Type S                        Full-size   \n",
       "3        2024  Acura         MDX SH-AWD     Sport utility vehicle: Small   \n",
       "4        2024  Acura  MDX SH-AWD Type S  Sport utility vehicle: Standard   \n",
       "\n",
       "   Engine size (L)  Cylinders Transmission Fuel type  City (L/100 km)  \\\n",
       "0              1.5          4          AV7         Z              8.1   \n",
       "1              1.5          4           M6         Z              8.9   \n",
       "2              2.0          4           M6         Z             11.1   \n",
       "3              3.5          6         AS10         Z             12.6   \n",
       "4              3.0          6         AS10         Z             13.8   \n",
       "\n",
       "   Highway (L/100 km)  Combined (L/100 km)  Combined (mpg)  \\\n",
       "0                 6.5                  7.4              38   \n",
       "1                 6.5                  7.8              36   \n",
       "2                 8.3                  9.9              29   \n",
       "3                 9.4                 11.2              25   \n",
       "4                11.2                 12.4              23   \n",
       "\n",
       "   CO2 emissions (g/km)  CO2 rating  Smog rating  \n",
       "0                   172           6            7  \n",
       "1                   181           6            6  \n",
       "2                   230           5            6  \n",
       "3                   263           4            5  \n",
       "4                   291           4            5  "
      ]
     },
     "execution_count": 2,
     "metadata": {},
     "output_type": "execute_result"
    }
   ],
   "source": [
    "# Load the DataFrame\n",
    "df = pd.read_csv('datasets/FuelConsumptionCo2.csv')\n",
    "\n",
    "df.head()"
   ]
  },
  {
   "cell_type": "markdown",
   "metadata": {},
   "source": [
    "#### Basic Info and description of the DataFrame"
   ]
  },
  {
   "cell_type": "code",
   "execution_count": 3,
   "metadata": {},
   "outputs": [
    {
     "name": "stdout",
     "output_type": "stream",
     "text": [
      "<class 'pandas.core.frame.DataFrame'>\n",
      "RangeIndex: 768 entries, 0 to 767\n",
      "Data columns (total 15 columns):\n",
      " #   Column                Non-Null Count  Dtype  \n",
      "---  ------                --------------  -----  \n",
      " 0   Model year            768 non-null    int64  \n",
      " 1   Make                  768 non-null    object \n",
      " 2   Model                 768 non-null    object \n",
      " 3   Vehicle class         768 non-null    object \n",
      " 4   Engine size (L)       768 non-null    float64\n",
      " 5   Cylinders             768 non-null    int64  \n",
      " 6   Transmission          768 non-null    object \n",
      " 7   Fuel type             768 non-null    object \n",
      " 8   City (L/100 km)       768 non-null    float64\n",
      " 9   Highway (L/100 km)    768 non-null    float64\n",
      " 10  Combined (L/100 km)   768 non-null    float64\n",
      " 11  Combined (mpg)        768 non-null    int64  \n",
      " 12  CO2 emissions (g/km)  768 non-null    int64  \n",
      " 13  CO2 rating            768 non-null    int64  \n",
      " 14  Smog rating           768 non-null    int64  \n",
      "dtypes: float64(4), int64(6), object(5)\n",
      "memory usage: 90.1+ KB\n"
     ]
    }
   ],
   "source": [
    "df.info()"
   ]
  },
  {
   "cell_type": "code",
   "execution_count": 4,
   "metadata": {},
   "outputs": [
    {
     "data": {
      "text/html": [
       "<div>\n",
       "<style scoped>\n",
       "    .dataframe tbody tr th:only-of-type {\n",
       "        vertical-align: middle;\n",
       "    }\n",
       "\n",
       "    .dataframe tbody tr th {\n",
       "        vertical-align: top;\n",
       "    }\n",
       "\n",
       "    .dataframe thead th {\n",
       "        text-align: right;\n",
       "    }\n",
       "</style>\n",
       "<table border=\"1\" class=\"dataframe\">\n",
       "  <thead>\n",
       "    <tr style=\"text-align: right;\">\n",
       "      <th></th>\n",
       "      <th>Model year</th>\n",
       "      <th>Engine size (L)</th>\n",
       "      <th>Cylinders</th>\n",
       "      <th>City (L/100 km)</th>\n",
       "      <th>Highway (L/100 km)</th>\n",
       "      <th>Combined (L/100 km)</th>\n",
       "      <th>Combined (mpg)</th>\n",
       "      <th>CO2 emissions (g/km)</th>\n",
       "      <th>CO2 rating</th>\n",
       "      <th>Smog rating</th>\n",
       "    </tr>\n",
       "  </thead>\n",
       "  <tbody>\n",
       "    <tr>\n",
       "      <th>count</th>\n",
       "      <td>768.0</td>\n",
       "      <td>768.000000</td>\n",
       "      <td>768.000000</td>\n",
       "      <td>768.000000</td>\n",
       "      <td>768.000000</td>\n",
       "      <td>768.000000</td>\n",
       "      <td>768.000000</td>\n",
       "      <td>768.000000</td>\n",
       "      <td>768.000000</td>\n",
       "      <td>768.000000</td>\n",
       "    </tr>\n",
       "    <tr>\n",
       "      <th>mean</th>\n",
       "      <td>2024.0</td>\n",
       "      <td>3.086198</td>\n",
       "      <td>5.541667</td>\n",
       "      <td>12.410417</td>\n",
       "      <td>9.432552</td>\n",
       "      <td>11.071224</td>\n",
       "      <td>27.332031</td>\n",
       "      <td>259.190104</td>\n",
       "      <td>4.479167</td>\n",
       "      <td>5.497396</td>\n",
       "    </tr>\n",
       "    <tr>\n",
       "      <th>std</th>\n",
       "      <td>0.0</td>\n",
       "      <td>1.268500</td>\n",
       "      <td>1.891678</td>\n",
       "      <td>3.392118</td>\n",
       "      <td>2.303873</td>\n",
       "      <td>2.845196</td>\n",
       "      <td>7.710060</td>\n",
       "      <td>64.902216</td>\n",
       "      <td>1.304723</td>\n",
       "      <td>1.607510</td>\n",
       "    </tr>\n",
       "    <tr>\n",
       "      <th>min</th>\n",
       "      <td>2024.0</td>\n",
       "      <td>1.200000</td>\n",
       "      <td>3.000000</td>\n",
       "      <td>4.400000</td>\n",
       "      <td>4.400000</td>\n",
       "      <td>4.400000</td>\n",
       "      <td>11.000000</td>\n",
       "      <td>104.000000</td>\n",
       "      <td>1.000000</td>\n",
       "      <td>1.000000</td>\n",
       "    </tr>\n",
       "    <tr>\n",
       "      <th>25%</th>\n",
       "      <td>2024.0</td>\n",
       "      <td>2.000000</td>\n",
       "      <td>4.000000</td>\n",
       "      <td>10.100000</td>\n",
       "      <td>7.700000</td>\n",
       "      <td>9.000000</td>\n",
       "      <td>22.000000</td>\n",
       "      <td>210.000000</td>\n",
       "      <td>4.000000</td>\n",
       "      <td>5.000000</td>\n",
       "    </tr>\n",
       "    <tr>\n",
       "      <th>50%</th>\n",
       "      <td>2024.0</td>\n",
       "      <td>3.000000</td>\n",
       "      <td>6.000000</td>\n",
       "      <td>12.250000</td>\n",
       "      <td>9.300000</td>\n",
       "      <td>11.000000</td>\n",
       "      <td>26.000000</td>\n",
       "      <td>260.000000</td>\n",
       "      <td>4.000000</td>\n",
       "      <td>6.000000</td>\n",
       "    </tr>\n",
       "    <tr>\n",
       "      <th>75%</th>\n",
       "      <td>2024.0</td>\n",
       "      <td>3.600000</td>\n",
       "      <td>6.000000</td>\n",
       "      <td>14.500000</td>\n",
       "      <td>10.825000</td>\n",
       "      <td>12.800000</td>\n",
       "      <td>31.000000</td>\n",
       "      <td>299.000000</td>\n",
       "      <td>5.000000</td>\n",
       "      <td>7.000000</td>\n",
       "    </tr>\n",
       "    <tr>\n",
       "      <th>max</th>\n",
       "      <td>2024.0</td>\n",
       "      <td>8.000000</td>\n",
       "      <td>16.000000</td>\n",
       "      <td>30.300000</td>\n",
       "      <td>20.900000</td>\n",
       "      <td>26.100000</td>\n",
       "      <td>64.000000</td>\n",
       "      <td>608.000000</td>\n",
       "      <td>8.000000</td>\n",
       "      <td>8.000000</td>\n",
       "    </tr>\n",
       "  </tbody>\n",
       "</table>\n",
       "</div>"
      ],
      "text/plain": [
       "       Model year  Engine size (L)   Cylinders  City (L/100 km)  \\\n",
       "count       768.0       768.000000  768.000000       768.000000   \n",
       "mean       2024.0         3.086198    5.541667        12.410417   \n",
       "std           0.0         1.268500    1.891678         3.392118   \n",
       "min        2024.0         1.200000    3.000000         4.400000   \n",
       "25%        2024.0         2.000000    4.000000        10.100000   \n",
       "50%        2024.0         3.000000    6.000000        12.250000   \n",
       "75%        2024.0         3.600000    6.000000        14.500000   \n",
       "max        2024.0         8.000000   16.000000        30.300000   \n",
       "\n",
       "       Highway (L/100 km)  Combined (L/100 km)  Combined (mpg)  \\\n",
       "count          768.000000           768.000000      768.000000   \n",
       "mean             9.432552            11.071224       27.332031   \n",
       "std              2.303873             2.845196        7.710060   \n",
       "min              4.400000             4.400000       11.000000   \n",
       "25%              7.700000             9.000000       22.000000   \n",
       "50%              9.300000            11.000000       26.000000   \n",
       "75%             10.825000            12.800000       31.000000   \n",
       "max             20.900000            26.100000       64.000000   \n",
       "\n",
       "       CO2 emissions (g/km)  CO2 rating  Smog rating  \n",
       "count            768.000000  768.000000   768.000000  \n",
       "mean             259.190104    4.479167     5.497396  \n",
       "std               64.902216    1.304723     1.607510  \n",
       "min              104.000000    1.000000     1.000000  \n",
       "25%              210.000000    4.000000     5.000000  \n",
       "50%              260.000000    4.000000     6.000000  \n",
       "75%              299.000000    5.000000     7.000000  \n",
       "max              608.000000    8.000000     8.000000  "
      ]
     },
     "execution_count": 4,
     "metadata": {},
     "output_type": "execute_result"
    }
   ],
   "source": [
    "df.describe()"
   ]
  },
  {
   "cell_type": "code",
   "execution_count": 5,
   "metadata": {},
   "outputs": [
    {
     "data": {
      "text/plain": [
       "(768, 15)"
      ]
     },
     "execution_count": 5,
     "metadata": {},
     "output_type": "execute_result"
    }
   ],
   "source": [
    "df.shape"
   ]
  },
  {
   "cell_type": "markdown",
   "metadata": {},
   "source": [
    "#### Feature Selection"
   ]
  },
  {
   "cell_type": "code",
   "execution_count": 6,
   "metadata": {},
   "outputs": [
    {
     "data": {
      "text/html": [
       "<div>\n",
       "<style scoped>\n",
       "    .dataframe tbody tr th:only-of-type {\n",
       "        vertical-align: middle;\n",
       "    }\n",
       "\n",
       "    .dataframe tbody tr th {\n",
       "        vertical-align: top;\n",
       "    }\n",
       "\n",
       "    .dataframe thead th {\n",
       "        text-align: right;\n",
       "    }\n",
       "</style>\n",
       "<table border=\"1\" class=\"dataframe\">\n",
       "  <thead>\n",
       "    <tr style=\"text-align: right;\">\n",
       "      <th></th>\n",
       "      <th>Engine size (L)</th>\n",
       "      <th>Cylinders</th>\n",
       "      <th>City (L/100 km)</th>\n",
       "      <th>Highway (L/100 km)</th>\n",
       "      <th>Combined (L/100 km)</th>\n",
       "      <th>CO2 emissions (g/km)</th>\n",
       "    </tr>\n",
       "  </thead>\n",
       "  <tbody>\n",
       "    <tr>\n",
       "      <th>0</th>\n",
       "      <td>1.5</td>\n",
       "      <td>4</td>\n",
       "      <td>8.1</td>\n",
       "      <td>6.5</td>\n",
       "      <td>7.4</td>\n",
       "      <td>172</td>\n",
       "    </tr>\n",
       "    <tr>\n",
       "      <th>1</th>\n",
       "      <td>1.5</td>\n",
       "      <td>4</td>\n",
       "      <td>8.9</td>\n",
       "      <td>6.5</td>\n",
       "      <td>7.8</td>\n",
       "      <td>181</td>\n",
       "    </tr>\n",
       "    <tr>\n",
       "      <th>2</th>\n",
       "      <td>2.0</td>\n",
       "      <td>4</td>\n",
       "      <td>11.1</td>\n",
       "      <td>8.3</td>\n",
       "      <td>9.9</td>\n",
       "      <td>230</td>\n",
       "    </tr>\n",
       "    <tr>\n",
       "      <th>3</th>\n",
       "      <td>3.5</td>\n",
       "      <td>6</td>\n",
       "      <td>12.6</td>\n",
       "      <td>9.4</td>\n",
       "      <td>11.2</td>\n",
       "      <td>263</td>\n",
       "    </tr>\n",
       "    <tr>\n",
       "      <th>4</th>\n",
       "      <td>3.0</td>\n",
       "      <td>6</td>\n",
       "      <td>13.8</td>\n",
       "      <td>11.2</td>\n",
       "      <td>12.4</td>\n",
       "      <td>291</td>\n",
       "    </tr>\n",
       "    <tr>\n",
       "      <th>5</th>\n",
       "      <td>2.0</td>\n",
       "      <td>4</td>\n",
       "      <td>11.0</td>\n",
       "      <td>8.6</td>\n",
       "      <td>9.9</td>\n",
       "      <td>232</td>\n",
       "    </tr>\n",
       "    <tr>\n",
       "      <th>6</th>\n",
       "      <td>2.0</td>\n",
       "      <td>4</td>\n",
       "      <td>11.3</td>\n",
       "      <td>9.1</td>\n",
       "      <td>10.3</td>\n",
       "      <td>241</td>\n",
       "    </tr>\n",
       "    <tr>\n",
       "      <th>7</th>\n",
       "      <td>2.0</td>\n",
       "      <td>4</td>\n",
       "      <td>10.0</td>\n",
       "      <td>7.2</td>\n",
       "      <td>8.7</td>\n",
       "      <td>205</td>\n",
       "    </tr>\n",
       "    <tr>\n",
       "      <th>8</th>\n",
       "      <td>2.0</td>\n",
       "      <td>4</td>\n",
       "      <td>10.5</td>\n",
       "      <td>7.7</td>\n",
       "      <td>9.2</td>\n",
       "      <td>217</td>\n",
       "    </tr>\n",
       "    <tr>\n",
       "      <th>9</th>\n",
       "      <td>2.9</td>\n",
       "      <td>6</td>\n",
       "      <td>13.5</td>\n",
       "      <td>9.3</td>\n",
       "      <td>11.6</td>\n",
       "      <td>271</td>\n",
       "    </tr>\n",
       "  </tbody>\n",
       "</table>\n",
       "</div>"
      ],
      "text/plain": [
       "   Engine size (L)  Cylinders  City (L/100 km)  Highway (L/100 km)  \\\n",
       "0              1.5          4              8.1                 6.5   \n",
       "1              1.5          4              8.9                 6.5   \n",
       "2              2.0          4             11.1                 8.3   \n",
       "3              3.5          6             12.6                 9.4   \n",
       "4              3.0          6             13.8                11.2   \n",
       "5              2.0          4             11.0                 8.6   \n",
       "6              2.0          4             11.3                 9.1   \n",
       "7              2.0          4             10.0                 7.2   \n",
       "8              2.0          4             10.5                 7.7   \n",
       "9              2.9          6             13.5                 9.3   \n",
       "\n",
       "   Combined (L/100 km)  CO2 emissions (g/km)  \n",
       "0                  7.4                   172  \n",
       "1                  7.8                   181  \n",
       "2                  9.9                   230  \n",
       "3                 11.2                   263  \n",
       "4                 12.4                   291  \n",
       "5                  9.9                   232  \n",
       "6                 10.3                   241  \n",
       "7                  8.7                   205  \n",
       "8                  9.2                   217  \n",
       "9                 11.6                   271  "
      ]
     },
     "execution_count": 6,
     "metadata": {},
     "output_type": "execute_result"
    }
   ],
   "source": [
    "# We will select some features for regression\n",
    "sub_df = df[['Engine size (L)', 'Cylinders', 'City (L/100 km)', 'Highway (L/100 km)', 'Combined (L/100 km)', 'CO2 emissions (g/km)']]\n",
    "sub_df.head(10)"
   ]
  },
  {
   "cell_type": "markdown",
   "metadata": {},
   "source": [
    "### EDA"
   ]
  },
  {
   "cell_type": "code",
   "execution_count": 7,
   "metadata": {},
   "outputs": [
    {
     "data": {
      "text/plain": [
       "Text(0, 0.5, 'CO2 Emissions (g/km)')"
      ]
     },
     "execution_count": 7,
     "metadata": {},
     "output_type": "execute_result"
    },
    {
     "data": {
      "image/png": "[encoded data removed]",
      "text/plain": [
       "<Figure size 720x432 with 1 Axes>"
      ]
     },
     "metadata": {},
     "output_type": "display_data"
    }
   ],
   "source": [
    "plt.style.use('fivethirtyeight')\n",
    "plt.figure(figsize=(10,6))\n",
    "plt.scatter(sub_df['Engine size (L)'], sub_df['CO2 emissions (g/km)'], color='red')\n",
    "plt.xlabel('Engine Size (L)')\n",
    "plt.ylabel('CO2 Emissions (g/km)')"
   ]
  },
  {
   "cell_type": "code",
   "execution_count": 8,
   "metadata": {},
   "outputs": [
    {
     "data": {
      "text/plain": [
       "Text(0, 0.5, 'CO2 Emissions (g/km)')"
      ]
     },
     "execution_count": 8,
     "metadata": {},
     "output_type": "execute_result"
    },
    {
     "data": {
      "image/png": "[encoded data removed]",
      "text/plain": [
       "<Figure size 720x432 with 1 Axes>"
      ]
     },
     "metadata": {},
     "output_type": "display_data"
    }
   ],
   "source": [
    "plt.figure(figsize=(10,6))\n",
    "plt.scatter(sub_df['City (L/100 km)'], sub_df['CO2 emissions (g/km)'], color='green')\n",
    "plt.xlabel('City (L/100 km)')\n",
    "plt.ylabel('CO2 Emissions (g/km)')"
   ]
  },
  {
   "cell_type": "markdown",
   "metadata": {},
   "source": [
    "According to the visualizations, There could be an outlier in CO2 emissions around 600g/Km. Let's see that value:"
   ]
  },
  {
   "cell_type": "code",
   "execution_count": 9,
   "metadata": {},
   "outputs": [
    {
     "data": {
      "text/html": [
       "<div>\n",
       "<style scoped>\n",
       "    .dataframe tbody tr th:only-of-type {\n",
       "        vertical-align: middle;\n",
       "    }\n",
       "\n",
       "    .dataframe tbody tr th {\n",
       "        vertical-align: top;\n",
       "    }\n",
       "\n",
       "    .dataframe thead th {\n",
       "        text-align: right;\n",
       "    }\n",
       "</style>\n",
       "<table border=\"1\" class=\"dataframe\">\n",
       "  <thead>\n",
       "    <tr style=\"text-align: right;\">\n",
       "      <th></th>\n",
       "      <th>Engine size (L)</th>\n",
       "      <th>Cylinders</th>\n",
       "      <th>City (L/100 km)</th>\n",
       "      <th>Highway (L/100 km)</th>\n",
       "      <th>Combined (L/100 km)</th>\n",
       "      <th>CO2 emissions (g/km)</th>\n",
       "    </tr>\n",
       "  </thead>\n",
       "  <tbody>\n",
       "    <tr>\n",
       "      <th>111</th>\n",
       "      <td>8.0</td>\n",
       "      <td>16</td>\n",
       "      <td>30.3</td>\n",
       "      <td>20.9</td>\n",
       "      <td>26.1</td>\n",
       "      <td>608</td>\n",
       "    </tr>\n",
       "  </tbody>\n",
       "</table>\n",
       "</div>"
      ],
      "text/plain": [
       "     Engine size (L)  Cylinders  City (L/100 km)  Highway (L/100 km)  \\\n",
       "111              8.0         16             30.3                20.9   \n",
       "\n",
       "     Combined (L/100 km)  CO2 emissions (g/km)  \n",
       "111                 26.1                   608  "
      ]
     },
     "execution_count": 9,
     "metadata": {},
     "output_type": "execute_result"
    }
   ],
   "source": [
    "sub_df[sub_df['CO2 emissions (g/km)'] > 600]"
   ]
  },
  {
   "cell_type": "markdown",
   "metadata": {},
   "source": [
    "The exact value for that data point is `608 CO2 emissions (g/km)`.\n",
    "\n",
    "Although this could be obvious, to determine if this really represents an _Outlier_, we will perform an analysis based on __Inter-Quartile Range (IQR)__.\n",
    "\n",
    "$$\n",
    "\\text{IQR} = Q_3 - Q_1\n",
    "$$\n",
    "\n",
    "The lower and upper limits to identify _outliers_ are:\n",
    "\n",
    "$$\n",
    "\\text{Lower Limit} = Q_1 - 1.5 \\cdot \\text{IQR}\n",
    "$$\n",
    "\n",
    "$$\n",
    "\\text{Upper Limit} = Q_1 + 1.5 \\cdot \\text{IQR}\n",
    "$$"
   ]
  },
  {
   "cell_type": "code",
   "execution_count": 10,
   "metadata": {},
   "outputs": [
    {
     "name": "stdout",
     "output_type": "stream",
     "text": [
      "Lower Bound: 76.5, Upper Bound: 343.5\n",
      "Is 608 CO2 Emissions (g/Km) an outlier? True\n"
     ]
    }
   ],
   "source": [
    "Q1 = df['CO2 emissions (g/km)'].quantile(0.25)\n",
    "Q3 = df['CO2 emissions (g/km)'].quantile(0.75)\n",
    "IQR = Q3 - Q1\n",
    "\n",
    "lower_limit = Q1 - 1.5 * IQR\n",
    "upper_limit = Q1 + 1.5 * IQR\n",
    "\n",
    "print(f\"Lower Bound: {lower_limit}, Upper Bound: {upper_limit}\")\n",
    "\n",
    "# Identify if 608 is an outlier\n",
    "is_outlier = 608 > upper_limit or 608 < lower_limit\n",
    "print(f'Is 608 CO2 Emissions (g/Km) an outlier? {is_outlier}')"
   ]
  },
  {
   "cell_type": "markdown",
   "metadata": {},
   "source": [
    "And using a BoxPlot:"
   ]
  },
  {
   "cell_type": "code",
   "execution_count": 11,
   "metadata": {},
   "outputs": [
    {
     "data": {
      "image/png": "[encoded data removed]",
      "text/plain": [
       "<Figure size 576x432 with 1 Axes>"
      ]
     },
     "metadata": {},
     "output_type": "display_data"
    }
   ],
   "source": [
    "plt.figure(figsize=(8,6))\n",
    "sns.boxplot(\n",
    "    y=df['CO2 emissions (g/km)'],\n",
    "    width=0.2,\n",
    "    flierprops={'marker':'o', 'markerfacecolor':'red', 'markersize':8}\n",
    ")\n",
    "plt.title('CO2 Emission (g/km) Boxplot')\n",
    "plt.ylabel('CO2 Emission (g/km)')\n",
    "plt.grid(axis='y', linestyle='--', alpha=0.7)"
   ]
  },
  {
   "cell_type": "markdown",
   "metadata": {},
   "source": [
    "Although there are more statistical outliers (above 420 aprox.), for the purposes of this example, we'll only remove the `608` CO2 Emission outlier."
   ]
  },
  {
   "cell_type": "code",
   "execution_count": 12,
   "metadata": {},
   "outputs": [
    {
     "name": "stdout",
     "output_type": "stream",
     "text": [
      "Shape of df with 608 CO2 emission data point (768, 6)\n",
      "Shape of df without these outlier (767, 6)\n"
     ]
    }
   ],
   "source": [
    "sub_df_cleaned = sub_df[sub_df['CO2 emissions (g/km)'] < 600]\n",
    "print('Shape of df with 608 CO2 emission data point', sub_df.shape)\n",
    "print('Shape of df without these outlier', sub_df_cleaned.shape)"
   ]
  },
  {
   "cell_type": "markdown",
   "metadata": {},
   "source": [
    "#### Train/Test Split"
   ]
  },
  {
   "cell_type": "code",
   "execution_count": 13,
   "metadata": {},
   "outputs": [],
   "source": [
    "# Defining X and y\n",
    "X = sub_df_cleaned.drop('CO2 emissions (g/km)', axis=1)\n",
    "y = sub_df_cleaned['CO2 emissions (g/km)']\n",
    "\n",
    "X_train, X_test, y_train, y_test = train_test_split(X, y, test_size=0.2, random_state=42)"
   ]
  },
  {
   "cell_type": "markdown",
   "metadata": {},
   "source": [
    "### Machine Learning Models and Pipelines"
   ]
  },
  {
   "cell_type": "code",
   "execution_count": 14,
   "metadata": {},
   "outputs": [
    {
     "name": "stdout",
     "output_type": "stream",
     "text": [
      "Model Performance:\n",
      "Lasso:\n",
      "\tMSE: 105.60690 \n",
      "\tR²: 0.97039\n",
      "Ridge:\n",
      "\tMSE: 106.41886 \n",
      "\tR²: 0.97017\n",
      "XGBoost:\n",
      "\tMSE: 30.79062 \n",
      "\tR²: 0.99137\n"
     ]
    }
   ],
   "source": [
    "# Pipelines dictionary\n",
    "# Note: For Ridge and Lasso Regression, the features are standardized with StandardScaler. For XGboost, this is not necessary.\n",
    "\n",
    "# Dictionary of pipelines\n",
    "pipelines = {\n",
    "    'Lasso': Pipeline([\n",
    "        ('scaler', StandardScaler()),\n",
    "        ('lasso', Lasso(alpha=0.1))\n",
    "    ]),\n",
    "    'Ridge': Pipeline([\n",
    "        ('scaler', StandardScaler()),\n",
    "        ('ridge', Ridge(alpha=1.0))\n",
    "    ]),\n",
    "    'XGBoost': Pipeline([\n",
    "        ('xgb', XGBRegressor(n_estimators=100, max_depth=3, random_state=42))\n",
    "    ])\n",
    "}\n",
    "\n",
    "# Dictionary to save the results\n",
    "results = {}\n",
    "\n",
    "# Training and evaluation\n",
    "for name, pipeline in pipelines.items():\n",
    "    pipeline.fit(X_train, y_train)\n",
    "    y_pred = pipeline.predict(X_test)\n",
    "\n",
    "    # Performance evaluation\n",
    "    mse = mean_squared_error(y_test, y_pred)\n",
    "    r2 = r2_score(y_test, y_pred)\n",
    "\n",
    "    results[name] = {'MSE': mse, 'R2': r2}\n",
    "\n",
    "print(\"Model Performance:\")\n",
    "for name, metrics in results.items():\n",
    "    print(f\"{name}:\")\n",
    "    print(f\"\\tMSE: {metrics['MSE']:.5f} \")\n",
    "    print(f\"\\tR²: {metrics['R2']:.5f}\")"
   ]
  },
  {
   "cell_type": "markdown",
   "metadata": {},
   "source": [
    "According to the above results. The best model is the `XGBoost`, which has:\n",
    "- __MSE:__ 30.7906\n",
    "- __R2:__ 0.99\n",
    "\n",
    "With a higher performance than _Lasso_ and _Ridge_ Regressions."
   ]
  }
 ],
 "metadata": {
  "kernelspec": {
   "display_name": "base",
   "language": "python",
   "name": "python3"
  },
  "language_info": {
   "codemirror_mode": {
    "name": "ipython",
    "version": 3
   },
   "file_extension": ".py",
   "mimetype": "text/x-python",
   "name": "python",
   "nbconvert_exporter": "python",
   "pygments_lexer": "ipython3",
   "version": "3.9.12"
  }
 },
 "nbformat": 4,
 "nbformat_minor": 2
}
